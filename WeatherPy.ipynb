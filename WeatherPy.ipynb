{
 "cells": [
  {
   "cell_type": "markdown",
   "metadata": {},
   "source": [
    "# WeatherPy\n",
    "\n",
    "---\n",
    "\n",
    "## Starter Code to Generate Random Geographic Coordinates and a List of Cities"
   ]
  },
  {
   "cell_type": "code",
   "execution_count": 11,
   "metadata": {
    "scrolled": true
   },
   "outputs": [],
   "source": [
    "# Dependencies and Setup\n",
    "import matplotlib.pyplot as plt\n",
    "import pandas as pd\n",
    "import numpy as np\n",
    "import requests\n",
    "import time\n",
    "from scipy.stats import linregress\n",
    "\n",
    "# Impor the OpenWeatherMap API key\n",
    "from api_keys import weather_api_key\n",
    "\n",
    "# Import citipy to determine the cities based on latitude and longitude\n",
    "from citipy import citipy"
   ]
  },
  {
   "cell_type": "markdown",
   "metadata": {},
   "source": [
    "### Generate the Cities List by Using the `citipy` Library"
   ]
  },
  {
   "cell_type": "code",
   "execution_count": 12,
   "metadata": {},
   "outputs": [
    {
     "name": "stdout",
     "output_type": "stream",
     "text": [
      "Number of cities in the list: 614\n"
     ]
    }
   ],
   "source": [
    "# Empty list for holding the latitude and longitude combinations\n",
    "lat_lngs = []\n",
    "\n",
    "# Empty list for holding the cities names\n",
    "cities = []\n",
    "\n",
    "# Range of latitudes and longitudes\n",
    "lat_range = (-90, 90)\n",
    "lng_range = (-180, 180)\n",
    "\n",
    "# Create a set of random lat and lng combinations\n",
    "lats = np.random.uniform(lat_range[0], lat_range[1], size=1500)\n",
    "lngs = np.random.uniform(lng_range[0], lng_range[1], size=1500)\n",
    "lat_lngs = zip(lats, lngs)\n",
    "\n",
    "# Identify nearest city for each lat, lng combination\n",
    "for lat_lng in lat_lngs:\n",
    "    city = citipy.nearest_city(lat_lng[0], lat_lng[1]).city_name\n",
    "    \n",
    "    # If the city is unique, then add it to a our cities list\n",
    "    if city not in cities:\n",
    "        cities.append(city)\n",
    "\n",
    "# Print the city count to confirm sufficient count\n",
    "print(f\"Number of cities in the list: {len(cities)}\")"
   ]
  },
  {
   "cell_type": "markdown",
   "metadata": {},
   "source": [
    "---"
   ]
  },
  {
   "cell_type": "markdown",
   "metadata": {},
   "source": [
    "## Requirement 1: Create Plots to Showcase the Relationship Between Weather Variables and Latitude\n",
    "\n",
    "### Use the OpenWeatherMap API to retrieve weather data from the cities list generated in the started code"
   ]
  },
  {
   "cell_type": "code",
   "execution_count": 17,
   "metadata": {
    "scrolled": true
   },
   "outputs": [
    {
     "name": "stdout",
     "output_type": "stream",
     "text": [
      "Beginning Data Retrieval     \n",
      "-----------------------------\n",
      "Processing Record 1 of Set 1 | san patricio\n",
      "Processing Record 2 of Set 1 | prince rupert\n",
      "Processing Record 3 of Set 1 | hawaiian paradise park\n",
      "Processing Record 4 of Set 1 | grytviken\n",
      "Processing Record 5 of Set 1 | college\n",
      "Processing Record 6 of Set 1 | katabu\n",
      "Processing Record 7 of Set 1 | egilsstadir\n",
      "Processing Record 8 of Set 1 | chui\n",
      "Processing Record 9 of Set 1 | waitangi\n",
      "Processing Record 10 of Set 1 | blackmans bay\n",
      "Processing Record 11 of Set 1 | ta`u\n",
      "Processing Record 12 of Set 1 | anadyr\n",
      "Processing Record 13 of Set 1 | lebu\n",
      "Processing Record 14 of Set 1 | laela\n",
      "Processing Record 15 of Set 1 | bilibino\n",
      "Processing Record 16 of Set 1 | margaret river\n",
      "Processing Record 17 of Set 1 | kristiansund\n",
      "Processing Record 18 of Set 1 | burang\n",
      "Processing Record 19 of Set 1 | port-aux-francais\n",
      "Processing Record 20 of Set 1 | adamstown\n",
      "Processing Record 21 of Set 1 | filingue\n",
      "Processing Record 22 of Set 1 | fedorovka\n",
      "Processing Record 23 of Set 1 | iqaluit\n",
      "Processing Record 24 of Set 1 | utrik\n",
      "Processing Record 25 of Set 1 | alexandria\n",
      "Processing Record 26 of Set 1 | kodiak\n",
      "Processing Record 27 of Set 1 | olonkinbyen\n",
      "Processing Record 28 of Set 1 | susanville\n",
      "Processing Record 29 of Set 1 | hoylake\n",
      "Processing Record 30 of Set 1 | avarua\n",
      "Processing Record 31 of Set 1 | lihue\n",
      "Processing Record 32 of Set 1 | hamilton\n",
      "Processing Record 33 of Set 1 | aasiaat\n",
      "Processing Record 34 of Set 1 | sitka\n",
      "Processing Record 35 of Set 1 | sebastopol\n",
      "Processing Record 36 of Set 1 | toga village\n",
      "City not found. Skipping...\n",
      "Processing Record 37 of Set 1 | hisai-motomachi\n",
      "Processing Record 38 of Set 1 | fort bragg\n",
      "Processing Record 39 of Set 1 | kidal\n",
      "Processing Record 40 of Set 1 | torghay\n",
      "Processing Record 41 of Set 1 | machali\n",
      "Processing Record 42 of Set 1 | biograd na moru\n",
      "Processing Record 43 of Set 1 | constantia\n",
      "Processing Record 44 of Set 1 | tangalle\n",
      "Processing Record 45 of Set 1 | salta\n",
      "Processing Record 46 of Set 1 | ust-nera\n",
      "Processing Record 47 of Set 1 | hithadhoo\n",
      "Processing Record 48 of Set 1 | hermanus\n",
      "Processing Record 49 of Set 1 | laguna\n",
      "Processing Record 50 of Set 1 | wailua homesteads\n",
      "Processing Record 0 of Set 2 | codrington\n",
      "Processing Record 1 of Set 2 | mana\n",
      "Processing Record 2 of Set 2 | jamestown\n",
      "Processing Record 3 of Set 2 | barrouallie\n",
      "Processing Record 4 of Set 2 | petropavlovsk-kamchatsky\n",
      "Processing Record 5 of Set 2 | peace river\n",
      "Processing Record 6 of Set 2 | dudinka\n",
      "Processing Record 7 of Set 2 | jining\n",
      "Processing Record 8 of Set 2 | kapuskasing\n",
      "Processing Record 9 of Set 2 | atafu village\n",
      "Processing Record 10 of Set 2 | kyshtovka\n",
      "Processing Record 11 of Set 2 | olinda\n",
      "Processing Record 12 of Set 2 | tiksi\n",
      "Processing Record 13 of Set 2 | lompoc\n",
      "Processing Record 14 of Set 2 | ravar\n",
      "Processing Record 15 of Set 2 | okhotsk\n",
      "Processing Record 16 of Set 2 | edinburgh of the seven seas\n",
      "Processing Record 17 of Set 2 | pangody\n",
      "Processing Record 18 of Set 2 | kupang\n",
      "Processing Record 19 of Set 2 | yellowknife\n",
      "Processing Record 20 of Set 2 | altay\n",
      "Processing Record 21 of Set 2 | jandiala sher khan\n",
      "Processing Record 22 of Set 2 | lazaro cardenas\n",
      "Processing Record 23 of Set 2 | taiohae\n",
      "City not found. Skipping...\n",
      "Processing Record 24 of Set 2 | susuman\n",
      "Processing Record 25 of Set 2 | waingapu\n",
      "Processing Record 26 of Set 2 | revolucion mexicana\n",
      "Processing Record 27 of Set 2 | hovd\n",
      "Processing Record 28 of Set 2 | fale old settlement\n",
      "Processing Record 29 of Set 2 | cumaral\n",
      "Processing Record 30 of Set 2 | klyuchi\n",
      "Processing Record 31 of Set 2 | la'ie\n",
      "Processing Record 32 of Set 2 | qaqortoq\n",
      "Processing Record 33 of Set 2 | port elizabeth\n",
      "Processing Record 34 of Set 2 | madhyapur thimi\n",
      "City not found. Skipping...\n",
      "Processing Record 35 of Set 2 | bouna\n",
      "Processing Record 36 of Set 2 | playas\n",
      "Processing Record 37 of Set 2 | ilulissat\n",
      "Processing Record 38 of Set 2 | bethel\n",
      "Processing Record 39 of Set 2 | albany\n",
      "Processing Record 40 of Set 2 | koh kong\n",
      "Processing Record 41 of Set 2 | guerrero negro\n",
      "Processing Record 42 of Set 2 | puerto natales\n",
      "Processing Record 43 of Set 2 | east london\n",
      "Processing Record 44 of Set 2 | puerto san carlos\n",
      "City not found. Skipping...\n",
      "Processing Record 45 of Set 2 | taos\n",
      "Processing Record 46 of Set 2 | selkirk\n",
      "Processing Record 47 of Set 2 | illizi\n",
      "Processing Record 48 of Set 2 | palmas\n",
      "Processing Record 49 of Set 2 | bakanas\n",
      "Processing Record 0 of Set 3 | harker heights\n",
      "Processing Record 1 of Set 3 | punta arenas\n",
      "Processing Record 2 of Set 3 | ouadda\n",
      "Processing Record 3 of Set 3 | kapa'a\n",
      "Processing Record 4 of Set 3 | tanrake village\n",
      "City not found. Skipping...\n",
      "Processing Record 5 of Set 3 | stanley\n",
      "Processing Record 6 of Set 3 | bodo\n",
      "Processing Record 7 of Set 3 | tura\n",
      "Processing Record 8 of Set 3 | talnakh\n",
      "Processing Record 9 of Set 3 | trinidad\n",
      "Processing Record 10 of Set 3 | zhosaly\n",
      "Processing Record 11 of Set 3 | port alfred\n",
      "Processing Record 12 of Set 3 | mitchell\n",
      "Processing Record 13 of Set 3 | vernon\n",
      "Processing Record 14 of Set 3 | invercargill\n",
      "Processing Record 15 of Set 3 | enoch\n",
      "Processing Record 16 of Set 3 | cave creek\n",
      "Processing Record 17 of Set 3 | flying fish cove\n",
      "Processing Record 18 of Set 3 | carnarvon\n",
      "Processing Record 19 of Set 3 | puerto ayora\n",
      "Processing Record 20 of Set 3 | georgetown\n",
      "Processing Record 21 of Set 3 | kasongo-lunda\n",
      "Processing Record 22 of Set 3 | afaahiti\n",
      "Processing Record 23 of Set 3 | vilyuchinsk\n",
      "Processing Record 24 of Set 3 | thompson\n",
      "Processing Record 25 of Set 3 | bubaque\n",
      "Processing Record 26 of Set 3 | monte patria\n",
      "Processing Record 27 of Set 3 | vorgashor\n",
      "Processing Record 28 of Set 3 | wusong\n",
      "Processing Record 29 of Set 3 | san pedro de lloc\n",
      "Processing Record 30 of Set 3 | lorengau\n",
      "Processing Record 31 of Set 3 | st. john's\n",
      "Processing Record 32 of Set 3 | uturoa\n",
      "Processing Record 33 of Set 3 | hoganas\n",
      "Processing Record 34 of Set 3 | longyearbyen\n",
      "Processing Record 35 of Set 3 | borongan\n",
      "Processing Record 36 of Set 3 | tommot\n",
      "Processing Record 37 of Set 3 | camana\n",
      "Processing Record 38 of Set 3 | bredasdorp\n",
      "Processing Record 39 of Set 3 | nova sintra\n",
      "Processing Record 40 of Set 3 | aykhal\n",
      "Processing Record 41 of Set 3 | fort mcmurray\n",
      "Processing Record 42 of Set 3 | whakatane\n",
      "Processing Record 43 of Set 3 | namdrik\n",
      "Processing Record 44 of Set 3 | udachny\n",
      "Processing Record 45 of Set 3 | pangkalpinang\n",
      "Processing Record 46 of Set 3 | ajdabiya\n",
      "Processing Record 47 of Set 3 | pacific grove\n",
      "Processing Record 48 of Set 3 | ushuaia\n",
      "Processing Record 49 of Set 3 | haiku-pauwela\n",
      "Processing Record 0 of Set 4 | datong\n",
      "Processing Record 1 of Set 4 | urucui\n",
      "Processing Record 2 of Set 4 | port-vila\n",
      "Processing Record 3 of Set 4 | tutoia\n",
      "Processing Record 4 of Set 4 | port mathurin\n",
      "Processing Record 5 of Set 4 | isafjordur\n",
      "Processing Record 6 of Set 4 | magdagachi\n",
      "Processing Record 7 of Set 4 | fraccionamiento geovillas los pinos\n",
      "City not found. Skipping...\n",
      "Processing Record 8 of Set 4 | kailua-kona\n",
      "Processing Record 9 of Set 4 | bandundu\n",
      "Processing Record 10 of Set 4 | arteche\n",
      "Processing Record 11 of Set 4 | nenjiang\n",
      "Processing Record 12 of Set 4 | labytnangi\n",
      "Processing Record 13 of Set 4 | bathsheba\n",
      "Processing Record 14 of Set 4 | khandyga\n",
      "Processing Record 15 of Set 4 | akrehamn\n",
      "Processing Record 16 of Set 4 | kloulklubed\n",
      "Processing Record 17 of Set 4 | ribeira grande\n",
      "Processing Record 18 of Set 4 | mermoz boabab\n",
      "Processing Record 19 of Set 4 | holualoa\n",
      "Processing Record 20 of Set 4 | colonia\n",
      "Processing Record 21 of Set 4 | bull savanna\n",
      "Processing Record 22 of Set 4 | cidreira\n",
      "Processing Record 23 of Set 4 | amga\n",
      "Processing Record 24 of Set 4 | pisco\n",
      "Processing Record 25 of Set 4 | lethbridge\n",
      "Processing Record 26 of Set 4 | inhambane\n",
      "Processing Record 27 of Set 4 | al kharijah\n",
      "Processing Record 28 of Set 4 | porto novo\n",
      "Processing Record 29 of Set 4 | arraial do cabo\n",
      "Processing Record 30 of Set 4 | nova vicosa\n",
      "Processing Record 31 of Set 4 | dzilam gonzalez\n",
      "Processing Record 32 of Set 4 | fortuna\n",
      "Processing Record 33 of Set 4 | yuzhno-kurilsk\n",
      "Processing Record 34 of Set 4 | cockburn town\n",
      "Processing Record 35 of Set 4 | tranovaho\n",
      "City not found. Skipping...\n",
      "Processing Record 36 of Set 4 | el-tor\n",
      "Processing Record 37 of Set 4 | chake chake\n"
     ]
    },
    {
     "name": "stdout",
     "output_type": "stream",
     "text": [
      "Processing Record 38 of Set 4 | maloye ganyushkino\n",
      "Processing Record 39 of Set 4 | lerwick\n",
      "Processing Record 40 of Set 4 | west island\n",
      "Processing Record 41 of Set 4 | el calafate\n",
      "Processing Record 42 of Set 4 | cadale\n",
      "Processing Record 43 of Set 4 | kavali\n",
      "Processing Record 44 of Set 4 | revda\n",
      "Processing Record 45 of Set 4 | veydelevka\n",
      "Processing Record 46 of Set 4 | huarmey\n",
      "Processing Record 47 of Set 4 | salalah\n",
      "Processing Record 48 of Set 4 | faya-largeau\n",
      "Processing Record 49 of Set 4 | sur\n",
      "Processing Record 0 of Set 5 | rikaze\n",
      "Processing Record 1 of Set 5 | alacranes\n",
      "Processing Record 2 of Set 5 | labrador city\n",
      "Processing Record 3 of Set 5 | askoy\n",
      "Processing Record 4 of Set 5 | kabalo\n",
      "Processing Record 5 of Set 5 | bure\n",
      "Processing Record 6 of Set 5 | papatowai\n",
      "Processing Record 7 of Set 5 | chonchi\n",
      "Processing Record 8 of Set 5 | north bend\n",
      "Processing Record 9 of Set 5 | tobelo\n",
      "Processing Record 10 of Set 5 | san ignacio de velasco\n",
      "Processing Record 11 of Set 5 | namsos\n",
      "Processing Record 12 of Set 5 | souillac\n",
      "Processing Record 13 of Set 5 | san julian\n",
      "Processing Record 14 of Set 5 | bani walid\n",
      "Processing Record 15 of Set 5 | tirumullaivasal\n",
      "Processing Record 16 of Set 5 | pijino del carmen\n",
      "Processing Record 17 of Set 5 | kununurra\n",
      "Processing Record 18 of Set 5 | kuching\n",
      "Processing Record 19 of Set 5 | anaconda\n",
      "Processing Record 20 of Set 5 | glace bay\n",
      "Processing Record 21 of Set 5 | mili\n",
      "Processing Record 22 of Set 5 | vilyuysk\n",
      "Processing Record 23 of Set 5 | edd\n",
      "Processing Record 24 of Set 5 | saipan\n",
      "Processing Record 25 of Set 5 | alofi\n",
      "Processing Record 26 of Set 5 | gannan\n",
      "Processing Record 27 of Set 5 | vila franca do campo\n",
      "Processing Record 28 of Set 5 | sikasso\n",
      "Processing Record 29 of Set 5 | medicine hat\n",
      "Processing Record 30 of Set 5 | yangor\n",
      "City not found. Skipping...\n",
      "Processing Record 31 of Set 5 | jiaojiang\n",
      "Processing Record 32 of Set 5 | namibe\n",
      "Processing Record 33 of Set 5 | ancud\n",
      "Processing Record 34 of Set 5 | sisimiut\n",
      "Processing Record 35 of Set 5 | elesbao veloso\n",
      "Processing Record 36 of Set 5 | mugia\n",
      "Processing Record 37 of Set 5 | honiara\n",
      "Processing Record 38 of Set 5 | benito juarez\n",
      "Processing Record 39 of Set 5 | pollock pines\n",
      "Processing Record 40 of Set 5 | vadso\n",
      "Processing Record 41 of Set 5 | flin flon\n",
      "Processing Record 42 of Set 5 | kiama\n",
      "Processing Record 43 of Set 5 | uthal\n",
      "Processing Record 44 of Set 5 | khanabad\n",
      "Processing Record 45 of Set 5 | 'ohonua\n",
      "City not found. Skipping...\n",
      "Processing Record 46 of Set 5 | ulladulla\n",
      "Processing Record 47 of Set 5 | thunder bay\n",
      "Processing Record 48 of Set 5 | natal\n",
      "Processing Record 49 of Set 5 | yorkton\n",
      "Processing Record 0 of Set 6 | rio grande\n",
      "Processing Record 1 of Set 6 | cargados carajos\n",
      "City not found. Skipping...\n",
      "Processing Record 2 of Set 6 | sinop\n",
      "Processing Record 3 of Set 6 | anuradhapura\n",
      "Processing Record 4 of Set 6 | brookings\n",
      "Processing Record 5 of Set 6 | iaciara\n",
      "Processing Record 6 of Set 6 | dashiqiao\n",
      "Processing Record 7 of Set 6 | kasempa\n",
      "Processing Record 8 of Set 6 | falam\n",
      "Processing Record 9 of Set 6 | tete\n",
      "Processing Record 10 of Set 6 | kualakapuas\n",
      "Processing Record 11 of Set 6 | trubchevsk\n",
      "Processing Record 12 of Set 6 | coronel dorrego\n",
      "Processing Record 13 of Set 6 | iskateley\n",
      "Processing Record 14 of Set 6 | dunedin\n",
      "Processing Record 15 of Set 6 | princeville\n",
      "Processing Record 16 of Set 6 | port douglas\n",
      "Processing Record 17 of Set 6 | cairns city\n",
      "City not found. Skipping...\n",
      "Processing Record 18 of Set 6 | gorontalo\n",
      "Processing Record 19 of Set 6 | quellon\n",
      "Processing Record 20 of Set 6 | happy valley-goose bay\n",
      "Processing Record 21 of Set 6 | hotan\n",
      "Processing Record 22 of Set 6 | kholmsk\n",
      "Processing Record 23 of Set 6 | bayan nur\n",
      "City not found. Skipping...\n",
      "Processing Record 24 of Set 6 | sylhet\n",
      "Processing Record 25 of Set 6 | sumbe\n",
      "Processing Record 26 of Set 6 | nemuro\n",
      "Processing Record 27 of Set 6 | tibanbang\n",
      "Processing Record 28 of Set 6 | las tablas\n",
      "Processing Record 29 of Set 6 | nuuk\n",
      "Processing Record 30 of Set 6 | port blair\n",
      "Processing Record 31 of Set 6 | sosnovo-ozerskoye\n",
      "Processing Record 32 of Set 6 | el daein\n",
      "City not found. Skipping...\n",
      "Processing Record 33 of Set 6 | cabo san lucas\n",
      "Processing Record 34 of Set 6 | acapulco de juarez\n",
      "Processing Record 35 of Set 6 | robore\n",
      "Processing Record 36 of Set 6 | aracati\n",
      "Processing Record 37 of Set 6 | shimokizukuri\n",
      "Processing Record 38 of Set 6 | batie\n",
      "Processing Record 39 of Set 6 | tejen\n",
      "Processing Record 40 of Set 6 | pico truncado\n",
      "Processing Record 41 of Set 6 | djambala\n",
      "Processing Record 42 of Set 6 | tenenkou\n",
      "Processing Record 43 of Set 6 | horki\n",
      "Processing Record 44 of Set 6 | dosso\n",
      "Processing Record 45 of Set 6 | lindi\n",
      "Processing Record 46 of Set 6 | banda aceh\n",
      "Processing Record 47 of Set 6 | sambava\n",
      "Processing Record 48 of Set 6 | dul'durga\n",
      "Processing Record 49 of Set 6 | oriximina\n",
      "Processing Record 0 of Set 7 | zambezi\n",
      "Processing Record 1 of Set 7 | the pas\n",
      "Processing Record 2 of Set 7 | korem\n",
      "Processing Record 3 of Set 7 | paciran\n",
      "Processing Record 4 of Set 7 | pierre\n",
      "Processing Record 5 of Set 7 | sona\n",
      "Processing Record 6 of Set 7 | hihifo\n",
      "City not found. Skipping...\n",
      "Processing Record 7 of Set 7 | christchurch\n",
      "Processing Record 8 of Set 7 | harper\n",
      "Processing Record 9 of Set 7 | minas de marcona\n",
      "Processing Record 10 of Set 7 | ugoofaaru\n",
      "Processing Record 11 of Set 7 | velingara\n",
      "Processing Record 12 of Set 7 | kerema\n",
      "Processing Record 13 of Set 7 | korla\n",
      "Processing Record 14 of Set 7 | sorong\n",
      "Processing Record 15 of Set 7 | kangasniemi\n",
      "Processing Record 16 of Set 7 | kone\n",
      "Processing Record 17 of Set 7 | san fernando de monte cristi\n",
      "Processing Record 18 of Set 7 | horice\n",
      "Processing Record 19 of Set 7 | illapel\n",
      "Processing Record 20 of Set 7 | kayangel\n",
      "Processing Record 21 of Set 7 | whitehorse\n",
      "Processing Record 22 of Set 7 | kudahuvadhoo\n",
      "Processing Record 23 of Set 7 | broken hill\n",
      "Processing Record 24 of Set 7 | yashkul'\n",
      "Processing Record 25 of Set 7 | balmazujvaros\n",
      "Processing Record 26 of Set 7 | aqadyr\n",
      "Processing Record 27 of Set 7 | enriquillo\n",
      "Processing Record 28 of Set 7 | grand rapids\n",
      "Processing Record 29 of Set 7 | karlshamn\n",
      "Processing Record 30 of Set 7 | dalandzadgad\n",
      "Processing Record 31 of Set 7 | pavlodar\n",
      "Processing Record 32 of Set 7 | palikir - national government center\n",
      "Processing Record 33 of Set 7 | kirensk\n",
      "Processing Record 34 of Set 7 | balkanabat\n",
      "Processing Record 35 of Set 7 | amod\n",
      "Processing Record 36 of Set 7 | asbestos\n",
      "Processing Record 37 of Set 7 | tolanaro\n",
      "Processing Record 38 of Set 7 | penzance\n",
      "Processing Record 39 of Set 7 | laascaanood\n",
      "Processing Record 40 of Set 7 | mil'kovo\n",
      "Processing Record 41 of Set 7 | lamu\n",
      "Processing Record 42 of Set 7 | kansk\n",
      "Processing Record 43 of Set 7 | langarud\n",
      "Processing Record 44 of Set 7 | kavaratti\n",
      "Processing Record 45 of Set 7 | mata-utu\n",
      "Processing Record 46 of Set 7 | peniche\n",
      "Processing Record 47 of Set 7 | kabare\n",
      "Processing Record 48 of Set 7 | ifrane\n",
      "Processing Record 49 of Set 7 | juneau\n",
      "Processing Record 0 of Set 8 | puerto baquerizo moreno\n",
      "Processing Record 1 of Set 8 | kerikeri\n",
      "Processing Record 2 of Set 8 | iquique\n",
      "Processing Record 3 of Set 8 | salmas\n",
      "Processing Record 4 of Set 8 | hami\n",
      "Processing Record 5 of Set 8 | nagqu\n",
      "Processing Record 6 of Set 8 | magistral'nyy\n",
      "Processing Record 7 of Set 8 | novodvinsk\n",
      "Processing Record 8 of Set 8 | la passe\n",
      "Processing Record 9 of Set 8 | hoxtolgay\n",
      "City not found. Skipping...\n",
      "Processing Record 10 of Set 8 | columbus\n",
      "Processing Record 11 of Set 8 | shiyan\n",
      "Processing Record 12 of Set 8 | howard springs\n",
      "Processing Record 13 of Set 8 | ketchikan\n",
      "Processing Record 14 of Set 8 | santa rosa\n",
      "Processing Record 15 of Set 8 | touros\n",
      "Processing Record 16 of Set 8 | sao jose da coroa grande\n",
      "Processing Record 17 of Set 8 | lyubim\n",
      "Processing Record 18 of Set 8 | bandarbeyla\n",
      "Processing Record 19 of Set 8 | buenaventura\n",
      "Processing Record 20 of Set 8 | chagoda\n",
      "Processing Record 21 of Set 8 | hadibu\n",
      "Processing Record 22 of Set 8 | alice springs\n",
      "Processing Record 23 of Set 8 | diego de almagro\n",
      "Processing Record 24 of Set 8 | baotou\n",
      "Processing Record 25 of Set 8 | bakchar\n",
      "Processing Record 26 of Set 8 | joal-fadiout\n",
      "Processing Record 27 of Set 8 | kislovodsk\n",
      "Processing Record 28 of Set 8 | conde\n",
      "Processing Record 29 of Set 8 | lloydminster\n"
     ]
    },
    {
     "name": "stdout",
     "output_type": "stream",
     "text": [
      "Processing Record 30 of Set 8 | parkes\n",
      "Processing Record 31 of Set 8 | bandon\n",
      "Processing Record 32 of Set 8 | bonthe\n",
      "Processing Record 33 of Set 8 | randazzo\n",
      "Processing Record 34 of Set 8 | bom jesus\n",
      "Processing Record 35 of Set 8 | palmer\n",
      "Processing Record 36 of Set 8 | newman\n",
      "Processing Record 37 of Set 8 | scarborough\n",
      "Processing Record 38 of Set 8 | sabzevar\n",
      "Processing Record 39 of Set 8 | kapenguria\n",
      "Processing Record 40 of Set 8 | wewak\n",
      "Processing Record 41 of Set 8 | nar'yan-mar\n",
      "Processing Record 42 of Set 8 | nacozari de garcia\n",
      "Processing Record 43 of Set 8 | remire-montjoly\n",
      "Processing Record 44 of Set 8 | monte carmelo\n",
      "Processing Record 45 of Set 8 | neftcala\n",
      "Processing Record 46 of Set 8 | whitecourt\n",
      "Processing Record 47 of Set 8 | tiruppuvanam\n",
      "Processing Record 48 of Set 8 | narrabri\n",
      "Processing Record 49 of Set 8 | codajas\n",
      "Processing Record 0 of Set 9 | saint-pierre\n",
      "Processing Record 1 of Set 9 | greenville\n",
      "Processing Record 2 of Set 9 | geraldton\n",
      "Processing Record 3 of Set 9 | al hazm\n",
      "Processing Record 4 of Set 9 | al mahwit\n",
      "Processing Record 5 of Set 9 | basco\n",
      "Processing Record 6 of Set 9 | karoi\n",
      "Processing Record 7 of Set 9 | totskoye\n",
      "Processing Record 8 of Set 9 | caleta de carquin\n",
      "Processing Record 9 of Set 9 | amos\n",
      "Processing Record 10 of Set 9 | galesong\n",
      "Processing Record 11 of Set 9 | wingham\n",
      "Processing Record 12 of Set 9 | morehead city\n",
      "Processing Record 13 of Set 9 | tazovsky\n",
      "Processing Record 14 of Set 9 | lautoka\n",
      "Processing Record 15 of Set 9 | shenjiamen\n",
      "Processing Record 16 of Set 9 | enewetak\n",
      "Processing Record 17 of Set 9 | necochea\n",
      "Processing Record 18 of Set 9 | revadanda\n",
      "Processing Record 19 of Set 9 | kushiro\n",
      "Processing Record 20 of Set 9 | tsiombe\n",
      "Processing Record 21 of Set 9 | roccella ionica\n",
      "Processing Record 22 of Set 9 | okha\n",
      "Processing Record 23 of Set 9 | namtsy\n",
      "Processing Record 24 of Set 9 | puerto armuelles\n",
      "Processing Record 25 of Set 9 | say\n",
      "Processing Record 26 of Set 9 | courtenay\n",
      "Processing Record 27 of Set 9 | buon ma thuot\n",
      "Processing Record 28 of Set 9 | hobyo\n",
      "Processing Record 29 of Set 9 | tamanrasset\n",
      "Processing Record 30 of Set 9 | pukchil-lodongjagu\n",
      "Processing Record 31 of Set 9 | vershino-darasunskiy\n",
      "Processing Record 32 of Set 9 | tionk essil\n",
      "Processing Record 33 of Set 9 | mathba\n",
      "Processing Record 34 of Set 9 | bridgewater\n",
      "Processing Record 35 of Set 9 | grovetown\n",
      "Processing Record 36 of Set 9 | meizhou\n",
      "Processing Record 37 of Set 9 | nouadhibou\n",
      "Processing Record 38 of Set 9 | turtas\n",
      "Processing Record 39 of Set 9 | al khafji\n",
      "Processing Record 40 of Set 9 | matias romero\n",
      "Processing Record 41 of Set 9 | detroit lakes\n",
      "Processing Record 42 of Set 9 | zeya\n",
      "Processing Record 43 of Set 9 | great falls\n",
      "Processing Record 44 of Set 9 | howrah\n",
      "Processing Record 45 of Set 9 | long beach\n",
      "Processing Record 46 of Set 9 | soufriere\n",
      "Processing Record 47 of Set 9 | laojunmiao\n",
      "Processing Record 48 of Set 9 | hirna\n",
      "Processing Record 49 of Set 9 | mumbwa\n",
      "Processing Record 0 of Set 10 | chernyshevsk\n",
      "Processing Record 1 of Set 10 | el tigre\n",
      "Processing Record 2 of Set 10 | mount gambier\n",
      "Processing Record 3 of Set 10 | fada\n",
      "Processing Record 4 of Set 10 | priob'ye\n",
      "Processing Record 5 of Set 10 | lata\n",
      "Processing Record 6 of Set 10 | lensk\n",
      "Processing Record 7 of Set 10 | mejit\n",
      "Processing Record 8 of Set 10 | papao\n",
      "Processing Record 9 of Set 10 | keokuk\n",
      "Processing Record 10 of Set 10 | sallisaw\n",
      "Processing Record 11 of Set 10 | gamboma\n",
      "Processing Record 12 of Set 10 | agat village\n",
      "Processing Record 13 of Set 10 | ornskoldsvik\n",
      "Processing Record 14 of Set 10 | huanggang\n",
      "Processing Record 15 of Set 10 | nogliki\n",
      "Processing Record 16 of Set 10 | nuku'alofa\n",
      "Processing Record 17 of Set 10 | campo formoso\n",
      "Processing Record 18 of Set 10 | katsuren-haebaru\n",
      "Processing Record 19 of Set 10 | kannad\n",
      "Processing Record 20 of Set 10 | ha'il\n",
      "Processing Record 21 of Set 10 | san marcos\n",
      "Processing Record 22 of Set 10 | beteza\n",
      "City not found. Skipping...\n",
      "Processing Record 23 of Set 10 | tabuk\n",
      "Processing Record 24 of Set 10 | kitimat\n",
      "Processing Record 25 of Set 10 | pechora\n",
      "Processing Record 26 of Set 10 | ecoporanga\n",
      "Processing Record 27 of Set 10 | zaozersk\n",
      "Processing Record 28 of Set 10 | inirida\n",
      "Processing Record 29 of Set 10 | conception bay south\n",
      "Processing Record 30 of Set 10 | valparaiso\n",
      "Processing Record 31 of Set 10 | bochum\n",
      "Processing Record 32 of Set 10 | hirara\n",
      "Processing Record 33 of Set 10 | san lorenzo\n",
      "Processing Record 34 of Set 10 | berdigestyakh\n",
      "Processing Record 35 of Set 10 | acarau\n",
      "Processing Record 36 of Set 10 | sarangani\n",
      "Processing Record 37 of Set 10 | sultanpur\n",
      "Processing Record 38 of Set 10 | longonjo\n",
      "Processing Record 39 of Set 10 | argo\n",
      "Processing Record 40 of Set 10 | bobo-dioulasso\n",
      "Processing Record 41 of Set 10 | luau\n",
      "Processing Record 42 of Set 10 | contai\n",
      "Processing Record 43 of Set 10 | castlegar\n",
      "Processing Record 44 of Set 10 | leua\n",
      "Processing Record 45 of Set 10 | pemangkat\n",
      "Processing Record 46 of Set 10 | daru\n",
      "Processing Record 47 of Set 10 | launceston\n",
      "Processing Record 48 of Set 10 | belmonte\n",
      "Processing Record 49 of Set 10 | sinabang\n",
      "Processing Record 0 of Set 11 | mizdah\n",
      "Processing Record 1 of Set 11 | igunga\n",
      "Processing Record 2 of Set 11 | kyongwon\n",
      "Processing Record 3 of Set 11 | baglung\n",
      "Processing Record 4 of Set 11 | el jadid\n",
      "Processing Record 5 of Set 11 | roma\n",
      "Processing Record 6 of Set 11 | alakurtti\n",
      "Processing Record 7 of Set 11 | iranshahr\n",
      "Processing Record 8 of Set 11 | bel ombre\n",
      "Processing Record 9 of Set 11 | berezovyy\n",
      "Processing Record 10 of Set 11 | kuressaare\n",
      "Processing Record 11 of Set 11 | karratha\n",
      "Processing Record 12 of Set 11 | arkansas city\n",
      "Processing Record 13 of Set 11 | mantsala\n",
      "Processing Record 14 of Set 11 | magadan\n",
      "Processing Record 15 of Set 11 | winslow\n",
      "Processing Record 16 of Set 11 | kodinsk\n",
      "Processing Record 17 of Set 11 | sao felix do xingu\n",
      "Processing Record 18 of Set 11 | nelson bay\n",
      "Processing Record 19 of Set 11 | awjilah\n",
      "Processing Record 20 of Set 11 | taksimo\n",
      "Processing Record 21 of Set 11 | tongchuanshi\n",
      "Processing Record 22 of Set 11 | grande prairie\n",
      "Processing Record 23 of Set 11 | tauranga\n",
      "Processing Record 24 of Set 11 | badger\n",
      "Processing Record 25 of Set 11 | mount pearl\n",
      "Processing Record 26 of Set 11 | dauphin\n",
      "Processing Record 27 of Set 11 | okoneshnikovo\n",
      "Processing Record 28 of Set 11 | olyokminsk\n",
      "Processing Record 29 of Set 11 | kurchatov\n",
      "Processing Record 30 of Set 11 | florence\n",
      "Processing Record 31 of Set 11 | turpan\n",
      "Processing Record 32 of Set 11 | letterkenny\n",
      "Processing Record 33 of Set 11 | batouri\n",
      "Processing Record 34 of Set 11 | rabo de peixe\n",
      "Processing Record 35 of Set 11 | qamdo\n",
      "Processing Record 36 of Set 11 | fuvahmulah\n",
      "City not found. Skipping...\n",
      "Processing Record 37 of Set 11 | ytyk-kyuyel'\n",
      "City not found. Skipping...\n",
      "Processing Record 38 of Set 11 | san antonio de pale\n",
      "Processing Record 39 of Set 11 | itoman\n",
      "Processing Record 40 of Set 11 | novogrudok\n",
      "Processing Record 41 of Set 11 | axim\n",
      "Processing Record 42 of Set 11 | belomorsk\n",
      "Processing Record 43 of Set 11 | ad dabbah\n",
      "Processing Record 44 of Set 11 | auki\n",
      "Processing Record 45 of Set 11 | portland\n",
      "Processing Record 46 of Set 11 | viedma\n",
      "Processing Record 47 of Set 11 | shimoda\n",
      "Processing Record 48 of Set 11 | vorkuta\n",
      "Processing Record 49 of Set 11 | naze\n",
      "Processing Record 0 of Set 12 | ha tien\n",
      "Processing Record 1 of Set 12 | margate\n",
      "Processing Record 2 of Set 12 | noratus\n",
      "Processing Record 3 of Set 12 | priozersk\n",
      "Processing Record 4 of Set 12 | port lincoln\n",
      "Processing Record 5 of Set 12 | manta\n",
      "Processing Record 6 of Set 12 | borova\n",
      "Processing Record 7 of Set 12 | macea\n",
      "Processing Record 8 of Set 12 | grand falls-windsor\n",
      "Processing Record 9 of Set 12 | wakkanai\n",
      "Processing Record 10 of Set 12 | irtyshsk\n",
      "Processing Record 11 of Set 12 | boca suno\n",
      "Processing Record 12 of Set 12 | hasaki\n",
      "Processing Record 13 of Set 12 | gadzhiyevo\n",
      "Processing Record 14 of Set 12 | duong dong\n",
      "Processing Record 15 of Set 12 | isangel\n",
      "Processing Record 16 of Set 12 | kralendijk\n",
      "Processing Record 17 of Set 12 | demre\n",
      "Processing Record 18 of Set 12 | diamantino\n",
      "Processing Record 19 of Set 12 | atar\n",
      "Processing Record 20 of Set 12 | richards bay\n",
      "Processing Record 21 of Set 12 | achinsk\n",
      "Processing Record 22 of Set 12 | novo oriente\n"
     ]
    },
    {
     "name": "stdout",
     "output_type": "stream",
     "text": [
      "Processing Record 23 of Set 12 | orchard homes\n",
      "Processing Record 24 of Set 12 | vakhsh\n",
      "Processing Record 25 of Set 12 | westport\n",
      "Processing Record 26 of Set 12 | felidhoo\n",
      "City not found. Skipping...\n",
      "Processing Record 27 of Set 12 | ji'an\n",
      "Processing Record 28 of Set 12 | phek\n",
      "Processing Record 29 of Set 12 | port augusta\n",
      "Processing Record 30 of Set 12 | lady frere\n",
      "Processing Record 31 of Set 12 | jayapura\n",
      "Processing Record 32 of Set 12 | mount isa\n",
      "Processing Record 33 of Set 12 | stenungsund\n",
      "Processing Record 34 of Set 12 | sishilichengzi\n",
      "City not found. Skipping...\n",
      "Processing Record 35 of Set 12 | lake havasu city\n",
      "Processing Record 36 of Set 12 | baie-comeau\n",
      "Processing Record 37 of Set 12 | evanston\n",
      "Processing Record 38 of Set 12 | dali\n",
      "Processing Record 39 of Set 12 | jaca\n",
      "Processing Record 40 of Set 12 | kotma\n",
      "Processing Record 41 of Set 12 | ar rutbah\n",
      "Processing Record 42 of Set 12 | kattivakkam\n",
      "Processing Record 43 of Set 12 | habiganj\n",
      "Processing Record 44 of Set 12 | gobabis\n",
      "Processing Record 45 of Set 12 | red hill\n",
      "Processing Record 46 of Set 12 | yung shue wan\n",
      "Processing Record 47 of Set 12 | opole\n",
      "Processing Record 48 of Set 12 | parabel'\n",
      "Processing Record 49 of Set 12 | tokar\n",
      "Processing Record 0 of Set 13 | makarov\n",
      "Processing Record 1 of Set 13 | nansio\n",
      "Processing Record 2 of Set 13 | tengrela\n",
      "Processing Record 3 of Set 13 | quelimane\n",
      "Processing Record 4 of Set 13 | kirishi\n",
      "Processing Record 5 of Set 13 | ataq\n",
      "Processing Record 6 of Set 13 | bargaal\n",
      "Processing Record 7 of Set 13 | alijo\n",
      "Processing Record 8 of Set 13 | vingt cinq\n",
      "City not found. Skipping...\n",
      "Processing Record 9 of Set 13 | yakeshi\n",
      "Processing Record 10 of Set 13 | linghai\n",
      "Processing Record 11 of Set 13 | kargil\n",
      "Processing Record 12 of Set 13 | emerald\n",
      "Processing Record 13 of Set 13 | luba\n",
      "-----------------------------\n",
      "Data Retrieval Complete      \n",
      "-----------------------------\n"
     ]
    }
   ],
   "source": [
    "# Set the API base URL\n",
    "url = \"http://api.openweathermap.org/data/2.5/weather?\"\n",
    "units = \"imperial\"\n",
    "\n",
    "# Define an empty list to fetch the weather data for each city\n",
    "city_data = []\n",
    "\n",
    "# Print to logger\n",
    "print(\"Beginning Data Retrieval     \")\n",
    "print(\"-----------------------------\")\n",
    "\n",
    "# Create counters\n",
    "record_count = 1\n",
    "set_count = 1\n",
    "\n",
    "# Loop through all the cities in our list to fetch weather data\n",
    "for i, city in enumerate(cities):\n",
    "        \n",
    "    # Group cities in sets of 50 for logging purposes\n",
    "    if (i % 50 == 0 and i >= 50):\n",
    "        set_count += 1\n",
    "        record_count = 0\n",
    "\n",
    "    # Create endpoint URL with each city\n",
    "    city_url = f\"{url}q={city}&units={units}&appid=b8d1097d7b51c6868aa9ef418d0fafea\"\n",
    "    \n",
    "    # Log the url, record, and set numbers\n",
    "    print(\"Processing Record %s of Set %s | %s\" % (record_count, set_count, city))\n",
    "\n",
    "    # Add 1 to the record count\n",
    "    record_count += 1\n",
    "\n",
    "    # Run an API request for each of the cities\n",
    "    try:\n",
    "        # Parse the JSON and retrieve data\n",
    "        response = requests.get(city_url)\n",
    "        city_weather = response.json()\n",
    "\n",
    "        # Parse out latitude, longitude, max temp, humidity, cloudiness, wind speed, country, and date\n",
    "        city_lat = city_weather['coord']['lat']\n",
    "        city_lng = city_weather['coord']['lon']\n",
    "        city_max_temp = city_weather['main']['temp_max']\n",
    "        city_humidity = city_weather['main']['humidity']\n",
    "        city_clouds = city_weather['clouds']['all']\n",
    "        city_wind = city_weather['wind']['speed']\n",
    "        city_country = city_weather['sys']['country']\n",
    "        city_date = city_weather['dt']\n",
    "\n",
    "        # Append the City information into city_data list\n",
    "        city_data.append({\"City\": city, \n",
    "                          \"Lat\": city_lat, \n",
    "                          \"Lng\": city_lng, \n",
    "                          \"Max Temp\": city_max_temp,\n",
    "                          \"Humidity\": city_humidity,\n",
    "                          \"Cloudiness\": city_clouds,\n",
    "                          \"Wind Speed\": city_wind,\n",
    "                          \"Country\": city_country,\n",
    "                          \"Date\": city_date})\n",
    "\n",
    "    # If an error is experienced, skip the city\n",
    "    except:\n",
    "        print(\"City not found. Skipping...\")\n",
    "        pass\n",
    "              \n",
    "# Indicate that Data Loading is complete \n",
    "print(\"-----------------------------\")\n",
    "print(\"Data Retrieval Complete      \")\n",
    "print(\"-----------------------------\")"
   ]
  },
  {
   "cell_type": "code",
   "execution_count": 18,
   "metadata": {},
   "outputs": [
    {
     "data": {
      "text/plain": [
       "City          593\n",
       "Lat           593\n",
       "Lng           593\n",
       "Max Temp      593\n",
       "Humidity      593\n",
       "Cloudiness    593\n",
       "Wind Speed    593\n",
       "Country       593\n",
       "Date          593\n",
       "dtype: int64"
      ]
     },
     "execution_count": 18,
     "metadata": {},
     "output_type": "execute_result"
    }
   ],
   "source": [
    "# Convert the cities weather data into a Pandas DataFrame\n",
    "city_data_df = pd.DataFrame(city_data)\n",
    "\n",
    "# Show Record Count\n",
    "city_data_df.count()"
   ]
  },
  {
   "cell_type": "code",
   "execution_count": 19,
   "metadata": {},
   "outputs": [
    {
     "data": {
      "text/html": [
       "<div>\n",
       "<style scoped>\n",
       "    .dataframe tbody tr th:only-of-type {\n",
       "        vertical-align: middle;\n",
       "    }\n",
       "\n",
       "    .dataframe tbody tr th {\n",
       "        vertical-align: top;\n",
       "    }\n",
       "\n",
       "    .dataframe thead th {\n",
       "        text-align: right;\n",
       "    }\n",
       "</style>\n",
       "<table border=\"1\" class=\"dataframe\">\n",
       "  <thead>\n",
       "    <tr style=\"text-align: right;\">\n",
       "      <th></th>\n",
       "      <th>City</th>\n",
       "      <th>Lat</th>\n",
       "      <th>Lng</th>\n",
       "      <th>Max Temp</th>\n",
       "      <th>Humidity</th>\n",
       "      <th>Cloudiness</th>\n",
       "      <th>Wind Speed</th>\n",
       "      <th>Country</th>\n",
       "      <th>Date</th>\n",
       "    </tr>\n",
       "  </thead>\n",
       "  <tbody>\n",
       "    <tr>\n",
       "      <th>0</th>\n",
       "      <td>san patricio</td>\n",
       "      <td>28.0170</td>\n",
       "      <td>-97.5169</td>\n",
       "      <td>65.86</td>\n",
       "      <td>51</td>\n",
       "      <td>0</td>\n",
       "      <td>5.30</td>\n",
       "      <td>US</td>\n",
       "      <td>1697551226</td>\n",
       "    </tr>\n",
       "    <tr>\n",
       "      <th>1</th>\n",
       "      <td>prince rupert</td>\n",
       "      <td>54.3161</td>\n",
       "      <td>-130.3201</td>\n",
       "      <td>53.69</td>\n",
       "      <td>66</td>\n",
       "      <td>100</td>\n",
       "      <td>13.80</td>\n",
       "      <td>CA</td>\n",
       "      <td>1697551226</td>\n",
       "    </tr>\n",
       "    <tr>\n",
       "      <th>2</th>\n",
       "      <td>hawaiian paradise park</td>\n",
       "      <td>19.5933</td>\n",
       "      <td>-154.9731</td>\n",
       "      <td>70.03</td>\n",
       "      <td>95</td>\n",
       "      <td>1</td>\n",
       "      <td>1.36</td>\n",
       "      <td>US</td>\n",
       "      <td>1697551227</td>\n",
       "    </tr>\n",
       "    <tr>\n",
       "      <th>3</th>\n",
       "      <td>grytviken</td>\n",
       "      <td>-54.2811</td>\n",
       "      <td>-36.5092</td>\n",
       "      <td>36.12</td>\n",
       "      <td>88</td>\n",
       "      <td>100</td>\n",
       "      <td>8.99</td>\n",
       "      <td>GS</td>\n",
       "      <td>1697551010</td>\n",
       "    </tr>\n",
       "    <tr>\n",
       "      <th>4</th>\n",
       "      <td>college</td>\n",
       "      <td>64.8569</td>\n",
       "      <td>-147.8028</td>\n",
       "      <td>36.90</td>\n",
       "      <td>78</td>\n",
       "      <td>100</td>\n",
       "      <td>1.01</td>\n",
       "      <td>US</td>\n",
       "      <td>1697551228</td>\n",
       "    </tr>\n",
       "  </tbody>\n",
       "</table>\n",
       "</div>"
      ],
      "text/plain": [
       "                     City      Lat       Lng  Max Temp  Humidity  Cloudiness  \\\n",
       "0            san patricio  28.0170  -97.5169     65.86        51           0   \n",
       "1           prince rupert  54.3161 -130.3201     53.69        66         100   \n",
       "2  hawaiian paradise park  19.5933 -154.9731     70.03        95           1   \n",
       "3               grytviken -54.2811  -36.5092     36.12        88         100   \n",
       "4                 college  64.8569 -147.8028     36.90        78         100   \n",
       "\n",
       "   Wind Speed Country        Date  \n",
       "0        5.30      US  1697551226  \n",
       "1       13.80      CA  1697551226  \n",
       "2        1.36      US  1697551227  \n",
       "3        8.99      GS  1697551010  \n",
       "4        1.01      US  1697551228  "
      ]
     },
     "execution_count": 19,
     "metadata": {},
     "output_type": "execute_result"
    }
   ],
   "source": [
    "# Display sample data\n",
    "city_data_df.head()"
   ]
  },
  {
   "cell_type": "code",
   "execution_count": 22,
   "metadata": {},
   "outputs": [],
   "source": [
    "# Export the City_Data into a csv\n",
    "city_data_df.to_csv(\"output_data/cities.csv\", index_label=\"City_ID\")"
   ]
  },
  {
   "cell_type": "code",
   "execution_count": 23,
   "metadata": {},
   "outputs": [
    {
     "data": {
      "text/html": [
       "<div>\n",
       "<style scoped>\n",
       "    .dataframe tbody tr th:only-of-type {\n",
       "        vertical-align: middle;\n",
       "    }\n",
       "\n",
       "    .dataframe tbody tr th {\n",
       "        vertical-align: top;\n",
       "    }\n",
       "\n",
       "    .dataframe thead th {\n",
       "        text-align: right;\n",
       "    }\n",
       "</style>\n",
       "<table border=\"1\" class=\"dataframe\">\n",
       "  <thead>\n",
       "    <tr style=\"text-align: right;\">\n",
       "      <th></th>\n",
       "      <th>City</th>\n",
       "      <th>Lat</th>\n",
       "      <th>Lng</th>\n",
       "      <th>Max Temp</th>\n",
       "      <th>Humidity</th>\n",
       "      <th>Cloudiness</th>\n",
       "      <th>Wind Speed</th>\n",
       "      <th>Country</th>\n",
       "      <th>Date</th>\n",
       "    </tr>\n",
       "    <tr>\n",
       "      <th>City_ID</th>\n",
       "      <th></th>\n",
       "      <th></th>\n",
       "      <th></th>\n",
       "      <th></th>\n",
       "      <th></th>\n",
       "      <th></th>\n",
       "      <th></th>\n",
       "      <th></th>\n",
       "      <th></th>\n",
       "    </tr>\n",
       "  </thead>\n",
       "  <tbody>\n",
       "    <tr>\n",
       "      <th>0</th>\n",
       "      <td>san patricio</td>\n",
       "      <td>28.0170</td>\n",
       "      <td>-97.5169</td>\n",
       "      <td>65.86</td>\n",
       "      <td>51</td>\n",
       "      <td>0</td>\n",
       "      <td>5.30</td>\n",
       "      <td>US</td>\n",
       "      <td>1697551226</td>\n",
       "    </tr>\n",
       "    <tr>\n",
       "      <th>1</th>\n",
       "      <td>prince rupert</td>\n",
       "      <td>54.3161</td>\n",
       "      <td>-130.3201</td>\n",
       "      <td>53.69</td>\n",
       "      <td>66</td>\n",
       "      <td>100</td>\n",
       "      <td>13.80</td>\n",
       "      <td>CA</td>\n",
       "      <td>1697551226</td>\n",
       "    </tr>\n",
       "    <tr>\n",
       "      <th>2</th>\n",
       "      <td>hawaiian paradise park</td>\n",
       "      <td>19.5933</td>\n",
       "      <td>-154.9731</td>\n",
       "      <td>70.03</td>\n",
       "      <td>95</td>\n",
       "      <td>1</td>\n",
       "      <td>1.36</td>\n",
       "      <td>US</td>\n",
       "      <td>1697551227</td>\n",
       "    </tr>\n",
       "    <tr>\n",
       "      <th>3</th>\n",
       "      <td>grytviken</td>\n",
       "      <td>-54.2811</td>\n",
       "      <td>-36.5092</td>\n",
       "      <td>36.12</td>\n",
       "      <td>88</td>\n",
       "      <td>100</td>\n",
       "      <td>8.99</td>\n",
       "      <td>GS</td>\n",
       "      <td>1697551010</td>\n",
       "    </tr>\n",
       "    <tr>\n",
       "      <th>4</th>\n",
       "      <td>college</td>\n",
       "      <td>64.8569</td>\n",
       "      <td>-147.8028</td>\n",
       "      <td>36.90</td>\n",
       "      <td>78</td>\n",
       "      <td>100</td>\n",
       "      <td>1.01</td>\n",
       "      <td>US</td>\n",
       "      <td>1697551228</td>\n",
       "    </tr>\n",
       "  </tbody>\n",
       "</table>\n",
       "</div>"
      ],
      "text/plain": [
       "                           City      Lat       Lng  Max Temp  Humidity  \\\n",
       "City_ID                                                                  \n",
       "0                  san patricio  28.0170  -97.5169     65.86        51   \n",
       "1                 prince rupert  54.3161 -130.3201     53.69        66   \n",
       "2        hawaiian paradise park  19.5933 -154.9731     70.03        95   \n",
       "3                     grytviken -54.2811  -36.5092     36.12        88   \n",
       "4                       college  64.8569 -147.8028     36.90        78   \n",
       "\n",
       "         Cloudiness  Wind Speed Country        Date  \n",
       "City_ID                                              \n",
       "0                 0        5.30      US  1697551226  \n",
       "1               100       13.80      CA  1697551226  \n",
       "2                 1        1.36      US  1697551227  \n",
       "3               100        8.99      GS  1697551010  \n",
       "4               100        1.01      US  1697551228  "
      ]
     },
     "execution_count": 23,
     "metadata": {},
     "output_type": "execute_result"
    }
   ],
   "source": [
    "# Read saved data\n",
    "city_data_df = pd.read_csv(\"output_data/cities.csv\", index_col=\"City_ID\")\n",
    "\n",
    "# Display sample data\n",
    "city_data_df.head()"
   ]
  },
  {
   "cell_type": "markdown",
   "metadata": {},
   "source": [
    "### Create the Scatter Plots Requested\n",
    "\n",
    "#### Latitude Vs. Temperature"
   ]
  },
  {
   "cell_type": "code",
   "execution_count": 25,
   "metadata": {
    "tags": []
   },
   "outputs": [
    {
     "data": {
      "image/png": "[encoded data removed]",
      "text/plain": [
       "<Figure size 432x288 with 1 Axes>"
      ]
     },
     "metadata": {
      "needs_background": "light"
     },
     "output_type": "display_data"
    }
   ],
   "source": [
    "# Build scatter plot for latitude vs. temperature\n",
    "# YOUR CODE HERE\n",
    "\n",
    "# Incorporate the other graph properties\n",
    "# YOUR CODE HERE\n",
    "latit_vs_Temp_axes = city_data_df.plot(kind=\"scatter\", x=\"Lat\", y=\"Max Temp\", \n",
    "                                      title=\"Maximum Temperature (F) vs. City Latitude\")\n",
    "# Save the figure\n",
    "plt.savefig(\"output_data/Fig1.png\")\n",
    "\n",
    "# Show plot\n",
    "plt.show()"
   ]
  },
  {
   "cell_type": "markdown",
   "metadata": {},
   "source": [
    "#### Latitude Vs. Humidity"
   ]
  },
  {
   "cell_type": "code",
   "execution_count": 27,
   "metadata": {},
   "outputs": [
    {
     "data": {
      "image/png": "[encoded data removed]",
      "text/plain": [
       "<Figure size 432x288 with 1 Axes>"
      ]
     },
     "metadata": {
      "needs_background": "light"
     },
     "output_type": "display_data"
    }
   ],
   "source": [
    "# Build the scatter plots for latitude vs. humidity\n",
    "# YOUR CODE HERE\n",
    "\n",
    "# Incorporate the other graph properties\n",
    "# YOUR CODE HERE\n",
    "latit_vs_Hum_axes = city_data_df.plot(kind=\"scatter\", x=\"Lat\", y=\"Humidity\", \n",
    "                                      title=\"Humidity  vs. City Latitude\")\n",
    "\n",
    "latit_vs_Hum_axes.get_figure().savefig(\"output_data/Temp_vs_Humidity_All_Cities.png\")\n",
    "# Save the figure\n",
    "plt.savefig(\"output_data/Fig2.png\")\n",
    "\n",
    "# Show plot\n",
    "plt.show()"
   ]
  },
  {
   "cell_type": "markdown",
   "metadata": {},
   "source": [
    "#### Latitude Vs. Cloudiness"
   ]
  },
  {
   "cell_type": "code",
   "execution_count": 29,
   "metadata": {},
   "outputs": [
    {
     "data": {
      "image/png": "[encoded data removed]",
      "text/plain": [
       "<Figure size 432x288 with 1 Axes>"
      ]
     },
     "metadata": {
      "needs_background": "light"
     },
     "output_type": "display_data"
    }
   ],
   "source": [
    "# Build the scatter plots for latitude vs. cloudiness\n",
    "# YOUR CODE HERE\n",
    "\n",
    "# Incorporate the other graph properties\n",
    "# YOUR CODE HERE\n",
    "latit_vs_Cloudiness_axes = city_data_df.plot(kind=\"scatter\", x=\"Lat\", y=\"Cloudiness\", \n",
    "                                      title=\"Cloudiness vs. City Latitude\")\n",
    "\n",
    "latit_vs_Hum_axes.get_figure().savefig(\"output_data/Lat_vs_Cloudiness_All_Cities.png\")\n",
    "# Save the figure\n",
    "plt.savefig(\"output_data/Fig3.png\")\n",
    "\n",
    "# Show plot\n",
    "plt.show()"
   ]
  },
  {
   "cell_type": "markdown",
   "metadata": {},
   "source": [
    "#### Latitude vs. Wind Speed Plot"
   ]
  },
  {
   "cell_type": "code",
   "execution_count": 30,
   "metadata": {},
   "outputs": [
    {
     "data": {
      "image/png": "[encoded data removed]",
      "text/plain": [
       "<Figure size 432x288 with 1 Axes>"
      ]
     },
     "metadata": {
      "needs_background": "light"
     },
     "output_type": "display_data"
    }
   ],
   "source": [
    "# Build the scatter plots for latitude vs. wind speed\n",
    "# YOUR CODE HERE\n",
    "\n",
    "# Incorporate the other graph properties\n",
    "# YOUR CODE HERE\n",
    "latit_vs_wind_axes = city_data_df.plot(kind=\"scatter\", x=\"Lat\", y=\"Wind Speed\", \n",
    "                                      title=\"Wind Speed vs. City Latitude\")\n",
    "\n",
    "latit_vs_Hum_axes.get_figure().savefig(\"output_data/Lat_vs_Wind_All_Cities.png\")\n",
    "# Save the figure\n",
    "plt.savefig(\"output_data/Fig4.png\")\n",
    "\n",
    "# Show plot\n",
    "plt.show()"
   ]
  },
  {
   "cell_type": "markdown",
   "metadata": {},
   "source": [
    "---\n",
    "\n",
    "## Requirement 2: Compute Linear Regression for Each Relationship\n"
   ]
  },
  {
   "cell_type": "code",
   "execution_count": 56,
   "metadata": {},
   "outputs": [],
   "source": [
    "# Define a function to create Linear Regression plots\n",
    "# YOUR CODE HERE\n",
    "def createLinearRegressionPlot(x_values, y_values, x_label, y_label, hemisphere, line_placement, ylim=None):\n",
    "    (slope, intercept, rvalue, pvalue, stderr) = stats.linregress(x_values, y_values)\n",
    "    regress_values = x_values * slope + intercept\n",
    "    line_eq = \"y = \" + str(round(slope,2)) + \"x +\" + str(round(intercept,2))\n",
    "    \n",
    "    \n",
    "    plt.scatter(x_values, y_values)\n",
    "    plt.xlabel(x_label)\n",
    "    plt.ylabel(y_label)\n",
    "    if ylim is not None:\n",
    "        plt.ylim(0, ylim)\n",
    "    plt.title(f\"{hemisphere} Hemisphere - {x_label} vs {y_label}\")\n",
    "    plt.annotate(line_eq,line_placement,fontsize=15,color=\"red\")\n",
    "    \n",
    "    print(f\"The r-squared is: {rvalue**2}\")\n",
    "    correlation = stats.pearsonr(x_values, y_values)\n",
    "    print(f\"The correlation between both factors is {round(correlation[0],2)}\")\n",
    "    return plt.plot(x_values,regress_values,\"r-\")"
   ]
  },
  {
   "cell_type": "code",
   "execution_count": 57,
   "metadata": {},
   "outputs": [
    {
     "data": {
      "text/html": [
       "<div>\n",
       "<style scoped>\n",
       "    .dataframe tbody tr th:only-of-type {\n",
       "        vertical-align: middle;\n",
       "    }\n",
       "\n",
       "    .dataframe tbody tr th {\n",
       "        vertical-align: top;\n",
       "    }\n",
       "\n",
       "    .dataframe thead th {\n",
       "        text-align: right;\n",
       "    }\n",
       "</style>\n",
       "<table border=\"1\" class=\"dataframe\">\n",
       "  <thead>\n",
       "    <tr style=\"text-align: right;\">\n",
       "      <th></th>\n",
       "      <th>City</th>\n",
       "      <th>Lat</th>\n",
       "      <th>Lng</th>\n",
       "      <th>Max Temp</th>\n",
       "      <th>Humidity</th>\n",
       "      <th>Cloudiness</th>\n",
       "      <th>Wind Speed</th>\n",
       "      <th>Country</th>\n",
       "      <th>Date</th>\n",
       "    </tr>\n",
       "    <tr>\n",
       "      <th>City_ID</th>\n",
       "      <th></th>\n",
       "      <th></th>\n",
       "      <th></th>\n",
       "      <th></th>\n",
       "      <th></th>\n",
       "      <th></th>\n",
       "      <th></th>\n",
       "      <th></th>\n",
       "      <th></th>\n",
       "    </tr>\n",
       "  </thead>\n",
       "  <tbody>\n",
       "    <tr>\n",
       "      <th>0</th>\n",
       "      <td>san patricio</td>\n",
       "      <td>28.0170</td>\n",
       "      <td>-97.5169</td>\n",
       "      <td>65.86</td>\n",
       "      <td>51</td>\n",
       "      <td>0</td>\n",
       "      <td>5.30</td>\n",
       "      <td>US</td>\n",
       "      <td>1697551226</td>\n",
       "    </tr>\n",
       "    <tr>\n",
       "      <th>1</th>\n",
       "      <td>prince rupert</td>\n",
       "      <td>54.3161</td>\n",
       "      <td>-130.3201</td>\n",
       "      <td>53.69</td>\n",
       "      <td>66</td>\n",
       "      <td>100</td>\n",
       "      <td>13.80</td>\n",
       "      <td>CA</td>\n",
       "      <td>1697551226</td>\n",
       "    </tr>\n",
       "    <tr>\n",
       "      <th>2</th>\n",
       "      <td>hawaiian paradise park</td>\n",
       "      <td>19.5933</td>\n",
       "      <td>-154.9731</td>\n",
       "      <td>70.03</td>\n",
       "      <td>95</td>\n",
       "      <td>1</td>\n",
       "      <td>1.36</td>\n",
       "      <td>US</td>\n",
       "      <td>1697551227</td>\n",
       "    </tr>\n",
       "    <tr>\n",
       "      <th>4</th>\n",
       "      <td>college</td>\n",
       "      <td>64.8569</td>\n",
       "      <td>-147.8028</td>\n",
       "      <td>36.90</td>\n",
       "      <td>78</td>\n",
       "      <td>100</td>\n",
       "      <td>1.01</td>\n",
       "      <td>US</td>\n",
       "      <td>1697551228</td>\n",
       "    </tr>\n",
       "    <tr>\n",
       "      <th>6</th>\n",
       "      <td>egilsstadir</td>\n",
       "      <td>65.2653</td>\n",
       "      <td>-14.3948</td>\n",
       "      <td>37.42</td>\n",
       "      <td>98</td>\n",
       "      <td>100</td>\n",
       "      <td>6.22</td>\n",
       "      <td>IS</td>\n",
       "      <td>1697551229</td>\n",
       "    </tr>\n",
       "  </tbody>\n",
       "</table>\n",
       "</div>"
      ],
      "text/plain": [
       "                           City      Lat       Lng  Max Temp  Humidity  \\\n",
       "City_ID                                                                  \n",
       "0                  san patricio  28.0170  -97.5169     65.86        51   \n",
       "1                 prince rupert  54.3161 -130.3201     53.69        66   \n",
       "2        hawaiian paradise park  19.5933 -154.9731     70.03        95   \n",
       "4                       college  64.8569 -147.8028     36.90        78   \n",
       "6                   egilsstadir  65.2653  -14.3948     37.42        98   \n",
       "\n",
       "         Cloudiness  Wind Speed Country        Date  \n",
       "City_ID                                              \n",
       "0                 0        5.30      US  1697551226  \n",
       "1               100       13.80      CA  1697551226  \n",
       "2                 1        1.36      US  1697551227  \n",
       "4               100        1.01      US  1697551228  \n",
       "6               100        6.22      IS  1697551229  "
      ]
     },
     "execution_count": 57,
     "metadata": {},
     "output_type": "execute_result"
    }
   ],
   "source": [
    "# Create a DataFrame with the Northern Hemisphere data (Latitude >= 0)\n",
    "# YOUR CODE HERE\n",
    "northern_hemi_df = city_data_df.loc[city_data_df[\"Lat\"] >= 0]\n",
    "# Display sample data\n",
    "northern_hemi_df.head()"
   ]
  },
  {
   "cell_type": "code",
   "execution_count": 58,
   "metadata": {},
   "outputs": [
    {
     "data": {
      "text/html": [
       "<div>\n",
       "<style scoped>\n",
       "    .dataframe tbody tr th:only-of-type {\n",
       "        vertical-align: middle;\n",
       "    }\n",
       "\n",
       "    .dataframe tbody tr th {\n",
       "        vertical-align: top;\n",
       "    }\n",
       "\n",
       "    .dataframe thead th {\n",
       "        text-align: right;\n",
       "    }\n",
       "</style>\n",
       "<table border=\"1\" class=\"dataframe\">\n",
       "  <thead>\n",
       "    <tr style=\"text-align: right;\">\n",
       "      <th></th>\n",
       "      <th>City</th>\n",
       "      <th>Lat</th>\n",
       "      <th>Lng</th>\n",
       "      <th>Max Temp</th>\n",
       "      <th>Humidity</th>\n",
       "      <th>Cloudiness</th>\n",
       "      <th>Wind Speed</th>\n",
       "      <th>Country</th>\n",
       "      <th>Date</th>\n",
       "    </tr>\n",
       "    <tr>\n",
       "      <th>City_ID</th>\n",
       "      <th></th>\n",
       "      <th></th>\n",
       "      <th></th>\n",
       "      <th></th>\n",
       "      <th></th>\n",
       "      <th></th>\n",
       "      <th></th>\n",
       "      <th></th>\n",
       "      <th></th>\n",
       "    </tr>\n",
       "  </thead>\n",
       "  <tbody>\n",
       "    <tr>\n",
       "      <th>3</th>\n",
       "      <td>grytviken</td>\n",
       "      <td>-54.2811</td>\n",
       "      <td>-36.5092</td>\n",
       "      <td>36.12</td>\n",
       "      <td>88</td>\n",
       "      <td>100</td>\n",
       "      <td>8.99</td>\n",
       "      <td>GS</td>\n",
       "      <td>1697551010</td>\n",
       "    </tr>\n",
       "    <tr>\n",
       "      <th>5</th>\n",
       "      <td>katabu</td>\n",
       "      <td>-4.9333</td>\n",
       "      <td>122.5167</td>\n",
       "      <td>77.02</td>\n",
       "      <td>81</td>\n",
       "      <td>6</td>\n",
       "      <td>6.24</td>\n",
       "      <td>ID</td>\n",
       "      <td>1697551229</td>\n",
       "    </tr>\n",
       "    <tr>\n",
       "      <th>7</th>\n",
       "      <td>chui</td>\n",
       "      <td>-33.6971</td>\n",
       "      <td>-53.4616</td>\n",
       "      <td>63.48</td>\n",
       "      <td>55</td>\n",
       "      <td>100</td>\n",
       "      <td>13.69</td>\n",
       "      <td>UY</td>\n",
       "      <td>1697551230</td>\n",
       "    </tr>\n",
       "    <tr>\n",
       "      <th>8</th>\n",
       "      <td>waitangi</td>\n",
       "      <td>-43.9535</td>\n",
       "      <td>-176.5597</td>\n",
       "      <td>47.82</td>\n",
       "      <td>89</td>\n",
       "      <td>100</td>\n",
       "      <td>15.46</td>\n",
       "      <td>NZ</td>\n",
       "      <td>1697551230</td>\n",
       "    </tr>\n",
       "    <tr>\n",
       "      <th>9</th>\n",
       "      <td>blackmans bay</td>\n",
       "      <td>-43.0167</td>\n",
       "      <td>147.3167</td>\n",
       "      <td>46.53</td>\n",
       "      <td>85</td>\n",
       "      <td>32</td>\n",
       "      <td>4.74</td>\n",
       "      <td>AU</td>\n",
       "      <td>1697551231</td>\n",
       "    </tr>\n",
       "  </tbody>\n",
       "</table>\n",
       "</div>"
      ],
      "text/plain": [
       "                  City      Lat       Lng  Max Temp  Humidity  Cloudiness  \\\n",
       "City_ID                                                                     \n",
       "3            grytviken -54.2811  -36.5092     36.12        88         100   \n",
       "5               katabu  -4.9333  122.5167     77.02        81           6   \n",
       "7                 chui -33.6971  -53.4616     63.48        55         100   \n",
       "8             waitangi -43.9535 -176.5597     47.82        89         100   \n",
       "9        blackmans bay -43.0167  147.3167     46.53        85          32   \n",
       "\n",
       "         Wind Speed Country        Date  \n",
       "City_ID                                  \n",
       "3              8.99      GS  1697551010  \n",
       "5              6.24      ID  1697551229  \n",
       "7             13.69      UY  1697551230  \n",
       "8             15.46      NZ  1697551230  \n",
       "9              4.74      AU  1697551231  "
      ]
     },
     "execution_count": 58,
     "metadata": {},
     "output_type": "execute_result"
    }
   ],
   "source": [
    "# Create a DataFrame with the Southern Hemisphere data (Latitude < 0)\n",
    "# YOUR CODE HERE\n",
    "southern_hemi_df = city_data_df.loc[city_data_df[\"Lat\"] < 0]\n",
    "# Display sample data\n",
    "southern_hemi_df = southern_hemi_df.dropna()\n",
    "southern_hemi_df.head()"
   ]
  },
  {
   "cell_type": "markdown",
   "metadata": {},
   "source": [
    "###  Temperature vs. Latitude Linear Regression Plot"
   ]
  },
  {
   "cell_type": "code",
   "execution_count": 60,
   "metadata": {},
   "outputs": [
    {
     "name": "stdout",
     "output_type": "stream",
     "text": [
      "The r-squared is: 0.7349027901103075\n",
      "The correlation between both factors is -0.86\n"
     ]
    },
    {
     "data": {
      "text/plain": [
       "[<matplotlib.lines.Line2D at 0x7fc877fa0f40>]"
      ]
     },
     "execution_count": 60,
     "metadata": {},
     "output_type": "execute_result"
    },
    {
     "data": {
      "image/png": "[encoded data removed]",
      "text/plain": [
       "<Figure size 432x288 with 1 Axes>"
      ]
     },
     "metadata": {
      "needs_background": "light"
     },
     "output_type": "display_data"
    }
   ],
   "source": [
    "# Linear regression on Northern Hemisphere\n",
    "# YOUR CODE HERE\n",
    "from scipy import stats\n",
    "from scipy.stats import linregress\n",
    "x_values = northern_hemi_df[\"Lat\"].values\n",
    "y_values = northern_hemi_df[\"Max Temp\"].values\n",
    "createLinearRegressionPlot(x_values, y_values, \"Lat\", \"Max Temp (F)\", \"Northern\",(40, 20))"
   ]
  },
  {
   "cell_type": "code",
   "execution_count": 61,
   "metadata": {},
   "outputs": [
    {
     "name": "stdout",
     "output_type": "stream",
     "text": [
      "The r-squared is: 0.6642936574085094\n",
      "The correlation between both factors is 0.82\n"
     ]
    },
    {
     "data": {
      "text/plain": [
       "[<matplotlib.lines.Line2D at 0x7fc877d823a0>]"
      ]
     },
     "execution_count": 61,
     "metadata": {},
     "output_type": "execute_result"
    },
    {
     "data": {
      "image/png": "[encoded data removed]",
      "text/plain": [
       "<Figure size 432x288 with 1 Axes>"
      ]
     },
     "metadata": {
      "needs_background": "light"
     },
     "output_type": "display_data"
    }
   ],
   "source": [
    "# Linear regression on Southern Hemisphere\n",
    "# YOUR CODE HERE\n",
    "x_values = southern_hemi_df[\"Lat\"].values\n",
    "y_values = southern_hemi_df[\"Max Temp\"].values\n",
    "createLinearRegressionPlot(x_values, y_values, \"Lat\", \"Max Temp (F)\", \"Southern\",(-30, 50))"
   ]
  },
  {
   "cell_type": "markdown",
   "metadata": {},
   "source": [
    "**Discussion about the linear relationship:** The Northern hemisphere has a negative correlation with the the maximum temperature whereas in the Southern hemosphere there is a positive correlation with maximum temperature "
   ]
  },
  {
   "cell_type": "markdown",
   "metadata": {},
   "source": [
    "### Humidity vs. Latitude Linear Regression Plot"
   ]
  },
  {
   "cell_type": "code",
   "execution_count": 62,
   "metadata": {},
   "outputs": [
    {
     "name": "stdout",
     "output_type": "stream",
     "text": [
      "The r-squared is: 0.034699798655117846\n",
      "The correlation between both factors is 0.19\n"
     ]
    },
    {
     "data": {
      "text/plain": [
       "[<matplotlib.lines.Line2D at 0x7fc8633ed220>]"
      ]
     },
     "execution_count": 62,
     "metadata": {},
     "output_type": "execute_result"
    },
    {
     "data": {
      "image/png": "[encoded data removed]",
      "text/plain": [
       "<Figure size 432x288 with 1 Axes>"
      ]
     },
     "metadata": {
      "needs_background": "light"
     },
     "output_type": "display_data"
    }
   ],
   "source": [
    "# Northern Hemisphere\n",
    "# YOUR CODE HERE\n",
    "x_values = northern_hemi_df['Lat'].values\n",
    "y_values = northern_hemi_df['Humidity'].values\n",
    "createLinearRegressionPlot(x_values, y_values, \"Latitude\", \"Humidity (%)\", \"Northern\",(40, 20))"
   ]
  },
  {
   "cell_type": "code",
   "execution_count": 63,
   "metadata": {},
   "outputs": [
    {
     "name": "stdout",
     "output_type": "stream",
     "text": [
      "The r-squared is: 0.00944431371442123\n",
      "The correlation between both factors is -0.1\n"
     ]
    },
    {
     "data": {
      "text/plain": [
       "[<matplotlib.lines.Line2D at 0x7fc8930375e0>]"
      ]
     },
     "execution_count": 63,
     "metadata": {},
     "output_type": "execute_result"
    },
    {
     "data": {
      "image/png": "[encoded data removed]",
      "text/plain": [
       "<Figure size 432x288 with 1 Axes>"
      ]
     },
     "metadata": {
      "needs_background": "light"
     },
     "output_type": "display_data"
    }
   ],
   "source": [
    "# Southern Hemisphere\n",
    "x_values = southern_hemi_df['Lat'].values\n",
    "y_values = southern_hemi_df['Humidity'].values\n",
    "createLinearRegressionPlot(x_values, y_values, \"Latitude\", \"Humidity (%)\", \"Northern\",(-30, 50))"
   ]
  },
  {
   "cell_type": "markdown",
   "metadata": {},
   "source": [
    "**Discussion about the linear relationship:** There is no correlation between humidity and maximum temperature in Northern or Southern Hemisphere"
   ]
  },
  {
   "cell_type": "markdown",
   "metadata": {},
   "source": [
    "### Cloudiness vs. Latitude Linear Regression Plot"
   ]
  },
  {
   "cell_type": "code",
   "execution_count": 65,
   "metadata": {},
   "outputs": [
    {
     "name": "stdout",
     "output_type": "stream",
     "text": [
      "The r-squared is: 0.04817029590672763\n",
      "The correlation between both factors is 0.22\n"
     ]
    },
    {
     "data": {
      "text/plain": [
       "[<matplotlib.lines.Line2D at 0x7fc864112a60>]"
      ]
     },
     "execution_count": 65,
     "metadata": {},
     "output_type": "execute_result"
    },
    {
     "data": {
      "image/png": "[encoded data removed]",
      "text/plain": [
       "<Figure size 432x288 with 1 Axes>"
      ]
     },
     "metadata": {
      "needs_background": "light"
     },
     "output_type": "display_data"
    }
   ],
   "source": [
    "# Northern Hemisphere\n",
    "# YOUR CODE HERE\n",
    "x_values = northern_hemi_df['Lat'].values\n",
    "y_values = northern_hemi_df['Cloudiness'].values\n",
    "createLinearRegressionPlot(x_values, y_values, \"Latitude\", \"Cloudiness(%)\", \"Northern\",(40, 20))"
   ]
  },
  {
   "cell_type": "code",
   "execution_count": 66,
   "metadata": {},
   "outputs": [
    {
     "name": "stdout",
     "output_type": "stream",
     "text": [
      "The r-squared is: 0.012739587323292346\n",
      "The correlation between both factors is 0.11\n"
     ]
    },
    {
     "data": {
      "text/plain": [
       "[<matplotlib.lines.Line2D at 0x7fc8633bd040>]"
      ]
     },
     "execution_count": 66,
     "metadata": {},
     "output_type": "execute_result"
    },
    {
     "data": {
      "image/png": "[encoded data removed]",
      "text/plain": [
       "<Figure size 432x288 with 1 Axes>"
      ]
     },
     "metadata": {
      "needs_background": "light"
     },
     "output_type": "display_data"
    }
   ],
   "source": [
    "# Southern Hemisphere\n",
    "# YOUR CODE HERE\n",
    "x_values = southern_hemi_df['Lat'].values\n",
    "y_values = southern_hemi_df['Cloudiness'].values\n",
    "createLinearRegressionPlot(x_values, y_values, \"Latitude\", \"Cloudiness(%)\", \"Northern\",(-30, 50))"
   ]
  },
  {
   "cell_type": "markdown",
   "metadata": {},
   "source": [
    "**Discussion about the linear relationship:** There no correlation between Cloudiness and maximum temperature in Northern or Southern Hemisphere. Perhaps a slight positive correlation for Northern hemisphere and a slight negative correlation for Southern Hemisphere."
   ]
  },
  {
   "cell_type": "markdown",
   "metadata": {},
   "source": [
    "### Wind Speed vs. Latitude Linear Regression Plot"
   ]
  },
  {
   "cell_type": "code",
   "execution_count": 68,
   "metadata": {},
   "outputs": [
    {
     "name": "stdout",
     "output_type": "stream",
     "text": [
      "The r-squared is: 0.0283648020342905\n",
      "The correlation between both factors is 0.17\n"
     ]
    },
    {
     "data": {
      "text/plain": [
       "[<matplotlib.lines.Line2D at 0x7fc8642a96a0>]"
      ]
     },
     "execution_count": 68,
     "metadata": {},
     "output_type": "execute_result"
    },
    {
     "data": {
      "image/png": "[encoded data removed]",
      "text/plain": [
       "<Figure size 432x288 with 1 Axes>"
      ]
     },
     "metadata": {
      "needs_background": "light"
     },
     "output_type": "display_data"
    }
   ],
   "source": [
    "# Northern Hemisphere\n",
    "# YOUR CODE HERE\n",
    "x_values = northern_hemi_df['Lat'].values\n",
    "y_values = northern_hemi_df['Wind Speed'].values\n",
    "createLinearRegressionPlot(x_values, y_values, \"Latitude\", \"Wind Speed\", \"Northern\",(40, 20))"
   ]
  },
  {
   "cell_type": "code",
   "execution_count": 70,
   "metadata": {},
   "outputs": [
    {
     "name": "stdout",
     "output_type": "stream",
     "text": [
      "The r-squared is: 0.017559530157269236\n",
      "The correlation between both factors is -0.13\n"
     ]
    },
    {
     "data": {
      "text/plain": [
       "[<matplotlib.lines.Line2D at 0x7fc877cef4f0>]"
      ]
     },
     "execution_count": 70,
     "metadata": {},
     "output_type": "execute_result"
    },
    {
     "data": {
      "image/png": "[encoded data removed]",
      "text/plain": [
       "<Figure size 432x288 with 1 Axes>"
      ]
     },
     "metadata": {
      "needs_background": "light"
     },
     "output_type": "display_data"
    }
   ],
   "source": [
    "# Southern Hemisphere\n",
    "# YOUR CODE HERE\n",
    "x_values = southern_hemi_df['Lat'].values\n",
    "y_values = southern_hemi_df['Wind Speed'].values\n",
    "createLinearRegressionPlot(x_values, y_values, \"Latitude\", \"Wind Speed\", \"Souththern\",(-40, 25))"
   ]
  },
  {
   "cell_type": "markdown",
   "metadata": {},
   "source": [
    "**Discussion about the linear relationship:** There is no correlation between wind speed and maximum temperature in Northern or Southern Hemisphere"
   ]
  },
  {
   "cell_type": "code",
   "execution_count": null,
   "metadata": {},
   "outputs": [],
   "source": []
  }
 ],
 "metadata": {
  "anaconda-cloud": {},
  "kernel_info": {
   "name": "python3"
  },
  "kernelspec": {
   "display_name": "Python 3 (ipykernel)",
   "language": "python",
   "name": "python3"
  },
  "language_info": {
   "codemirror_mode": {
    "name": "ipython",
    "version": 3
   },
   "file_extension": ".py",
   "mimetype": "text/x-python",
   "name": "python",
   "nbconvert_exporter": "python",
   "pygments_lexer": "ipython3",
   "version": "3.9.12"
  },
  "latex_envs": {
   "LaTeX_envs_menu_present": true,
   "autoclose": false,
   "autocomplete": true,
   "bibliofile": "biblio.bib",
   "cite_by": "apalike",
   "current_citInitial": 1,
   "eqLabelWithNumbers": true,
   "eqNumInitial": 1,
   "hotkeys": {
    "equation": "Ctrl-E",
    "itemize": "Ctrl-I"
   },
   "labels_anchors": false,
   "latex_user_defs": false,
   "report_style_numbering": false,
   "user_envs_cfg": false
  },
  "nteract": {
   "version": "0.12.3"
  }
 },
 "nbformat": 4,
 "nbformat_minor": 4
}
